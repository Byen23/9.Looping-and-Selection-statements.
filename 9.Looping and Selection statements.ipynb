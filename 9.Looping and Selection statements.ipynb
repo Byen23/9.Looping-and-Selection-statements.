{
 "cells": [
  {
   "cell_type": "code",
   "execution_count": 1,
   "metadata": {
    "ExecuteTime": {
     "end_time": "2019-01-13T16:26:32.446034Z",
     "start_time": "2019-01-13T16:26:26.309134Z"
    }
   },
   "outputs": [
    {
     "name": "stdout",
     "output_type": "stream",
     "text": [
      "30\n",
      "10 9 8 7 6 5 4 3 2 1 \n",
      " [10, 9, 8, 7, 6, 5, 4, 3, 2, 1]\n",
      "---------------------------------------------------------------------\n",
      "Enter the count: 23\n",
      "Enter the sum: 40\n",
      "Average > 10\n"
     ]
    }
   ],
   "source": [
    "# -*- coding: utf-8 -*-\n",
    "\"\"\"\n",
    "Created on Sat Jan 13 2019\n",
    "\n",
    "@author: Byen23\n",
    "\"\"\"\n",
    "\n",
    "\n",
    "#9th Program to be uploaded to Github\n",
    "\n",
    "# Specifying the steps in the range.\n",
    "\n",
    "\"\"\" The count-controlled loops we have seen thus far count through consecutive numbers in a series. \n",
    "    However, in some programs we might want a loop to skip some numbers, \n",
    "    perhaps visiting every other one or every third one. \"\"\"\n",
    "\n",
    "list(range(1, 6, 1)) # Same as using two arguements\n",
    "\n",
    "list(range(1, 6, 2)) # Use every other number \n",
    "\n",
    "list(range(1, 6, 3)) # Use every third number\n",
    "\n",
    "# Now suppose you had to complete the sum of the even numbers between 1 and 10\n",
    "\n",
    "theSum = 0 \n",
    "for count in range(2, 11, 2):\n",
    "\ttheSum += count\n",
    "\t\n",
    "print(theSum)\n",
    "\n",
    "# Looks that count own\n",
    "\n",
    "for count in range(10, 0, -1):\n",
    "\tprint(count, end = \" \")\n",
    "\t\n",
    "print(\"\\n\",list(range(10, 0, -1)))\n",
    "print(69*\"-\")\n",
    "\n",
    "# Short Circuit Evaluation\n",
    "\n",
    "\"\"\"Likewise, in the expression A or B, if A is true, then so is the expression, \n",
    "    and again there is no need to evaluate B. This approach, in which evaluation stops as soon as possible, \n",
    "    is called short-circuit evaluation. \"\"\"\n",
    "\n",
    "\n",
    "count = int(input(\"Enter the count: \"))\n",
    "theSum = int(input(\"Enter the sum: \"))\n",
    "if count > 0 and theSum > 10:\n",
    "\tprint(\"Average > 10\")\n",
    "else:\n",
    "\tprint(\"count = 0 or average <= 10\")\n",
    "\t"
   ]
  }
 ],
 "metadata": {
  "kernelspec": {
   "display_name": "Python 3",
   "language": "python",
   "name": "python3"
  },
  "language_info": {
   "codemirror_mode": {
    "name": "ipython",
    "version": 3
   },
   "file_extension": ".py",
   "mimetype": "text/x-python",
   "name": "python",
   "nbconvert_exporter": "python",
   "pygments_lexer": "ipython3",
   "version": "3.6.7"
  }
 },
 "nbformat": 4,
 "nbformat_minor": 2
}
